{
 "cells": [
  {
   "cell_type": "code",
   "execution_count": 1,
   "metadata": {},
   "outputs": [],
   "source": [
    "import numpy as np\n",
    "\n",
    "# scheme: 2(input) x 5(layer1) x 1(layer1, output)"
   ]
  },
  {
   "cell_type": "code",
   "execution_count": 2,
   "metadata": {},
   "outputs": [],
   "source": [
    "batch_in = np.array([\n",
    "    [0., 0.], \n",
    "    [0., 1.],\n",
    "    [1., 0.],\n",
    "    [1., 1.]\n",
    "])"
   ]
  },
  {
   "cell_type": "code",
   "execution_count": 3,
   "metadata": {},
   "outputs": [],
   "source": [
    "batch_out = np.array([[0], [1], [1], [0]])"
   ]
  },
  {
   "cell_type": "code",
   "execution_count": 4,
   "metadata": {},
   "outputs": [],
   "source": [
    "W1 = np.random.rand(2, 5)\n",
    "B1 = np.random.rand(1, 5)"
   ]
  },
  {
   "cell_type": "code",
   "execution_count": 5,
   "metadata": {},
   "outputs": [],
   "source": [
    "W0 = np.random.rand(5, 1)\n",
    "B0 = np.random.rand(1, 1)"
   ]
  },
  {
   "cell_type": "code",
   "execution_count": 6,
   "metadata": {},
   "outputs": [],
   "source": [
    "def sigm(x):\n",
    "    return 1/(1 + np.exp(-1 * x))\n",
    "\n",
    "def softmax(x):\n",
    "    exps = np.exp(x - x.max())\n",
    "    return exps / np.sum(exps, axis=0)"
   ]
  },
  {
   "cell_type": "code",
   "execution_count": 7,
   "metadata": {},
   "outputs": [],
   "source": [
    "r = 0.1"
   ]
  },
  {
   "cell_type": "code",
   "execution_count": 12,
   "metadata": {},
   "outputs": [
    {
     "data": {
      "text/plain": [
       "(4, 5)"
      ]
     },
     "execution_count": 12,
     "metadata": {},
     "output_type": "execute_result"
    }
   ],
   "source": [
    "A2 = batch_in \n",
    "Z1 = np.dot(A2, W1)+B1\n",
    "A1 = sigm(Z1)\n",
    "Z0 = np.dot(A1, W0)+B0\n",
    "A0 = sigm(Z0)\n",
    "\n",
    "\n",
    "dC = 2 * (A0-batch_out)\n",
    "dA0 = A0 * (1 - A0)\n",
    "# d0 = dC * dA0 * A1\n",
    "d0 = np.dot(A1.T, dC * dA0)\n",
    "\n",
    "dA1 = A1 * (1 - A1)\n",
    "# d1 = dC * dA0 * dA1 * W0 * A2\n",
    "d1 = np.dot(A2.T, np.dot(dA0, W0.T)* dC * dA1)\n",
    "\n",
    "dA1.shape"
   ]
  },
  {
   "cell_type": "code",
   "execution_count": 285,
   "metadata": {},
   "outputs": [],
   "source": [
    "for i in range(10000):\n",
    "    A2 = batch_in \n",
    "    Z1 = np.dot(A2, W1)+B1\n",
    "    A1 = sigm(Z1)\n",
    "    Z0 = np.dot(A1, W0)+B0\n",
    "    A0 = sigm(Z0)\n",
    "\n",
    "\n",
    "    dC = 2 * (A0-batch_out)\n",
    "    dA0 = A0 * (1 - A0)\n",
    "    # d0 = dC * dA0 * A1\n",
    "    d0 = np.dot(A1.T, dC * dA0)\n",
    "\n",
    "    dA1 = A1 * (1 - A1)\n",
    "    # d1 = dC * dA0 * dA1 * W0 * A2\n",
    "    d1 = np.dot(A2.T, np.dot(dA0, W0.T)* dC * dA1)\n",
    "    \n",
    "    W0 = W0 - r * d0\n",
    "    W1 = W1 - r * d1"
   ]
  },
  {
   "cell_type": "code",
   "execution_count": 286,
   "metadata": {},
   "outputs": [
    {
     "name": "stdout",
     "output_type": "stream",
     "text": [
      "[[0.05141547]\n",
      " [0.95492963]\n",
      " [0.95846166]\n",
      " [0.0345612 ]]\n",
      "loss: 0.0018986997707523192\n"
     ]
    }
   ],
   "source": [
    "print(A0)\n",
    "print(\"loss:\", np.average(np.square(A0 - outp)))"
   ]
  }
 ],
 "metadata": {
  "kernelspec": {
   "display_name": "Python 3",
   "language": "python",
   "name": "python3"
  },
  "language_info": {
   "codemirror_mode": {
    "name": "ipython",
    "version": 3
   },
   "file_extension": ".py",
   "mimetype": "text/x-python",
   "name": "python",
   "nbconvert_exporter": "python",
   "pygments_lexer": "ipython3",
   "version": "3.8.5"
  }
 },
 "nbformat": 4,
 "nbformat_minor": 2
}
