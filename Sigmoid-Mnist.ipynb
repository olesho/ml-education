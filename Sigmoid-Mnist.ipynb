{
 "cells": [
  {
   "cell_type": "code",
   "execution_count": 1,
   "metadata": {},
   "outputs": [],
   "source": [
    "#!pip install matplotlib"
   ]
  },
  {
   "cell_type": "code",
   "execution_count": 2,
   "metadata": {},
   "outputs": [],
   "source": [
    "import numpy as np\n",
    "import mnist\n",
    "from matplotlib import pyplot as plt\n",
    "import math\n",
    "%matplotlib inline\n",
    "\n",
    "train_images = mnist.train_images()\n",
    "train_labels = mnist.train_labels()\n",
    "test_images = mnist.test_images()\n",
    "test_labels = mnist.test_labels()\n",
    "\n",
    "train_images = (train_images/255.)-0.5\n",
    "test_images = (test_images/255.)-0.5"
   ]
  },
  {
   "cell_type": "code",
   "execution_count": 3,
   "metadata": {},
   "outputs": [],
   "source": [
    "batch_count = 6000\n",
    "input_data = train_images.reshape(train_images.shape[0], -1)\n",
    "input_data = np.split(input_data, batch_count)\n",
    "\n",
    "input_test = test_images.reshape(test_images.shape[0], -1)\n",
    "output_test = np.zeros((len(test_labels), 10))\n",
    "for i in range(len(test_labels)):\n",
    "    output_test[i][test_labels[i]] = 1.\n",
    "\n",
    "output_data = np.zeros((len(train_labels), 10))\n",
    "for i in range(len(train_labels)):\n",
    "    output_data[i][train_labels[i]] = 1.\n",
    "output_data = np.split(output_data, batch_count)"
   ]
  },
  {
   "cell_type": "code",
   "execution_count": 4,
   "metadata": {},
   "outputs": [],
   "source": [
    "def sigm(x):\n",
    "    return 1/(1 + np.exp(-1 * x))"
   ]
  },
  {
   "cell_type": "code",
   "execution_count": 5,
   "metadata": {},
   "outputs": [],
   "source": [
    "# def relu(x):\n",
    "    "
   ]
  },
  {
   "cell_type": "code",
   "execution_count": 6,
   "metadata": {},
   "outputs": [],
   "source": [
    "def softmax(vector):\n",
    "    e = np.exp(vector)\n",
    "    return e / e.sum()"
   ]
  },
  {
   "cell_type": "code",
   "execution_count": 7,
   "metadata": {},
   "outputs": [],
   "source": [
    "def softmax_grad(softmax):\n",
    "    # Reshape the 1-d softmax to 2-d so that np.dot will do the matrix multiplication\n",
    "    s = softmax.reshape(-1,1)\n",
    "    return np.diagflat(s) - np.dot(s, s.T)"
   ]
  },
  {
   "cell_type": "code",
   "execution_count": 8,
   "metadata": {},
   "outputs": [],
   "source": [
    "#def relu(x):"
   ]
  },
  {
   "cell_type": "code",
   "execution_count": 9,
   "metadata": {},
   "outputs": [],
   "source": [
    "# 784 x 100 x 30 x 10\n",
    "class NN:\n",
    "    def __init__(self, n_epochs):\n",
    "        self.W2 = np.random.rand(784, 100)\n",
    "        self.B2 = np.random.rand(100)\n",
    "        self.W1 = np.random.rand(100, 30)\n",
    "        self.B1 = np.random.rand(30)\n",
    "        self.W0 = np.random.rand(30, 10)\n",
    "        self.B0 = np.random.rand(10)\n",
    "        self.loss = []  \n",
    "        self.n_epochs = n_epochs\n",
    "        \n",
    "    def forward(self, batch_in, batch_out):\n",
    "        Z2 = np.dot(batch_in, self.W2)/784\n",
    "        A2 = sigm(Z2 + self.B2)\n",
    "        Z1 = np.dot(A2, self.W1)/100\n",
    "        A1 = sigm(Z1 + self.B1)\n",
    "        Z0 = np.dot(A1, self.W0)/30\n",
    "        #A0 = softmax(Z0)\n",
    "        A0 = sigm(Z0)\n",
    "        \n",
    "        diff = A0-batch_out\n",
    "        self.last_loss = np.average(diff**2)\n",
    "\n",
    "        dC = 2*(diff)\n",
    "        dA0 = A0 * (1 - A0)\n",
    "        dCdA0 = dC*dA0\n",
    "        \n",
    "        # d0 = dC dA0 A1\n",
    "        d0 = np.dot(A1.T, dCdA0)\n",
    "\n",
    "        # d1 = dC dA0 ( dA1 W0 A2)\n",
    "        dA1 = A1 * (1 - A1)\n",
    "        d1 = np.dot(A2.T, np.dot(dCdA0, self.W0.T) * dA1)\n",
    "        \n",
    "        # d2 = dC dA0 (dA2 W1 W0 A3)\n",
    "        A3 = batch_in\n",
    "        dA2 = A2 * (1 - A2)\n",
    "        d2 = np.dot(A3.T, np.dot(np.dot(dCdA0, self.W0.T), self.W1.T) * dA2)\n",
    "\n",
    "        self.W0 = self.W0 - 0.1 * d0\n",
    "        self.W1 = self.W1 - 0.1 * d1\n",
    "        self.W2 = self.W2 - 0.1 * d2\n",
    "    \n",
    "    def train(self, input_data, output_data):\n",
    "        for n in range(self.n_epochs):\n",
    "            for i in range(len(input_data)):\n",
    "                nn.forward(input_data[i], output_data[i])\n",
    "            self.loss += [self.last_loss]\n",
    "    \n",
    "    def test(self, input_test, output_test):\n",
    "        Z2 = np.dot(input_test, self.W2)/784\n",
    "        A2 = sigm(Z2 + self.B2)\n",
    "        Z1 = np.dot(A2, self.W1)/100\n",
    "        A1 = sigm(Z1 + self.B1)\n",
    "        Z0 = np.dot(A1, self.W0)/30\n",
    "        A0 = sigm(Z0)\n",
    "        return np.average((A0-output_test)**2)\n",
    "    \n",
    "    def result(self, d):\n",
    "        A0 = sigm(np.dot(sigm(np.dot(sigm(np.dot(d, self.W2) + self.B2), self.W1) + self.B1), self.W0))\n",
    "        return A0\n",
    "    \n",
    "    def test1(self, input_test, output_test):\n",
    "        Z2 = np.dot(input_test, self.W2)/784\n",
    "        A2 = sigm(Z2 + self.B2)\n",
    "        Z1 = np.dot(A2, self.W1)/100\n",
    "        A1 = sigm(Z1 + self.B1)\n",
    "        Z0 = np.dot(A1, self.W0)/30\n",
    "        return sigm(Z0)"
   ]
  },
  {
   "cell_type": "code",
   "execution_count": 10,
   "metadata": {},
   "outputs": [],
   "source": [
    "nn = NN(10)"
   ]
  },
  {
   "cell_type": "code",
   "execution_count": 11,
   "metadata": {},
   "outputs": [],
   "source": [
    "nn.train(input_data, output_data)"
   ]
  },
  {
   "cell_type": "code",
   "execution_count": 12,
   "metadata": {},
   "outputs": [
    {
     "data": {
      "text/plain": [
       "0.01684404272742877"
      ]
     },
     "execution_count": 12,
     "metadata": {},
     "output_type": "execute_result"
    }
   ],
   "source": [
    "nn.test(input_test, output_test)"
   ]
  },
  {
   "cell_type": "code",
   "execution_count": 13,
   "metadata": {},
   "outputs": [
    {
     "data": {
      "text/plain": [
       "1.6666666666666667e-05"
      ]
     },
     "execution_count": 13,
     "metadata": {},
     "output_type": "execute_result"
    }
   ],
   "source": [
    "1/(batch_count*nn.n_epochs)"
   ]
  },
  {
   "cell_type": "code",
   "execution_count": 14,
   "metadata": {},
   "outputs": [
    {
     "data": {
      "text/plain": [
       "[<matplotlib.lines.Line2D at 0x7f20ac784280>]"
      ]
     },
     "execution_count": 14,
     "metadata": {},
     "output_type": "execute_result"
    },
    {
     "data": {
      "image/png": "[encoded data removed]",
      "text/plain": [
       "<Figure size 432x288 with 1 Axes>"
      ]
     },
     "metadata": {
      "needs_background": "light"
     },
     "output_type": "display_data"
    }
   ],
   "source": [
    "fig = plt.figure()\n",
    "ax = fig.add_axes([0,0,1,1])\n",
    "ax.plot(np.arange(0, nn.n_epochs), nn.loss)"
   ]
  },
  {
   "cell_type": "code",
   "execution_count": 17,
   "metadata": {},
   "outputs": [
    {
     "name": "stderr",
     "output_type": "stream",
     "text": [
      "<ipython-input-4-4138a7d9f7ea>:2: RuntimeWarning: overflow encountered in exp\n",
      "  return 1/(1 + np.exp(-1 * x))\n"
     ]
    },
    {
     "data": {
      "image/png": "[encoded data removed]",
      "text/plain": [
       "<Figure size 432x288 with 1 Axes>"
      ]
     },
     "metadata": {
      "needs_background": "light"
     },
     "output_type": "display_data"
    },
    {
     "data": {
      "image/png": "[encoded data removed]",
      "text/plain": [
       "<Figure size 432x288 with 1 Axes>"
      ]
     },
     "metadata": {
      "needs_background": "light"
     },
     "output_type": "display_data"
    },
    {
     "data": {
      "image/png": "[encoded data removed]",
      "text/plain": [
       "<Figure size 432x288 with 1 Axes>"
      ]
     },
     "metadata": {
      "needs_background": "light"
     },
     "output_type": "display_data"
    },
    {
     "data": {
      "image/png": "[encoded data removed]",
      "text/plain": [
       "<Figure size 432x288 with 1 Axes>"
      ]
     },
     "metadata": {
      "needs_background": "light"
     },
     "output_type": "display_data"
    },
    {
     "data": {
      "image/png": "[encoded data removed]",
      "text/plain": [
       "<Figure size 432x288 with 1 Axes>"
      ]
     },
     "metadata": {
      "needs_background": "light"
     },
     "output_type": "display_data"
    },
    {
     "data": {
      "image/png": "[encoded data removed]",
      "text/plain": [
       "<Figure size 432x288 with 1 Axes>"
      ]
     },
     "metadata": {
      "needs_background": "light"
     },
     "output_type": "display_data"
    },
    {
     "data": {
      "image/png": "[encoded data removed]",
      "text/plain": [
       "<Figure size 432x288 with 1 Axes>"
      ]
     },
     "metadata": {
      "needs_background": "light"
     },
     "output_type": "display_data"
    },
    {
     "data": {
      "image/png": "[encoded data removed]",
      "text/plain": [
       "<Figure size 432x288 with 1 Axes>"
      ]
     },
     "metadata": {
      "needs_background": "light"
     },
     "output_type": "display_data"
    },
    {
     "data": {
      "image/png": "[encoded data removed]",
      "text/plain": [
       "<Figure size 432x288 with 1 Axes>"
      ]
     },
     "metadata": {
      "needs_background": "light"
     },
     "output_type": "display_data"
    },
    {
     "data": {
      "image/png": "[encoded data removed]",
      "text/plain": [
       "<Figure size 432x288 with 1 Axes>"
      ]
     },
     "metadata": {
      "needs_background": "light"
     },
     "output_type": "display_data"
    }
   ],
   "source": [
    "for i in range(10):\n",
    "    recognized_as = nn.result(input_test[i]).argmax()\n",
    "    plt.title('Label is {}. Recognized as: {}'.format(test_labels[i], recognized_as))\n",
    "    plt.imshow(test_images[i], cmap='gray')\n",
    "    plt.show()\n",
    "    \n"
   ]
  },
  {
   "cell_type": "code",
   "execution_count": null,
   "metadata": {},
   "outputs": [],
   "source": []
  },
  {
   "cell_type": "code",
   "execution_count": 16,
   "metadata": {},
   "outputs": [],
   "source": []
  },
  {
   "cell_type": "code",
   "execution_count": null,
   "metadata": {},
   "outputs": [],
   "source": []
  },
  {
   "cell_type": "code",
   "execution_count": null,
   "metadata": {},
   "outputs": [],
   "source": []
  },
  {
   "cell_type": "code",
   "execution_count": null,
   "metadata": {},
   "outputs": [],
   "source": []
  },
  {
   "cell_type": "code",
   "execution_count": null,
   "metadata": {},
   "outputs": [],
   "source": []
  },
  {
   "cell_type": "code",
   "execution_count": null,
   "metadata": {},
   "outputs": [],
   "source": []
  },
  {
   "cell_type": "code",
   "execution_count": null,
   "metadata": {},
   "outputs": [],
   "source": []
  }
 ],
 "metadata": {
  "kernelspec": {
   "display_name": "Python 3",
   "language": "python",
   "name": "python3"
  },
  "language_info": {
   "codemirror_mode": {
    "name": "ipython",
    "version": 3
   },
   "file_extension": ".py",
   "mimetype": "text/x-python",
   "name": "python",
   "nbconvert_exporter": "python",
   "pygments_lexer": "ipython3",
   "version": "3.8.5"
  }
 },
 "nbformat": 4,
 "nbformat_minor": 2
}
